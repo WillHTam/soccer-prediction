{
 "cells": [
  {
   "cell_type": "markdown",
   "metadata": {},
   "source": [
    "# Predicting Soccer Matches\n",
    "\n",
    "- To predict soccer matches seems like a very interesting problem on which to apply ML.  Soccer clubs, bettors, and others with a stake in the results are likewise looking to do so to gain an edge.\n",
    "\n",
    "### Procedure\n",
    "- The benchmarks will be \n",
    "    - ~50%, the accuracy rate at which most news outlets and pundits average\n",
    "    - ~60%, an average of betting sites which use proprietary algorithms and methods\n",
    "    - ~70%, the accuracy rate one would achieve if betting with the market\n",
    "- As a baseline, a null hypothesis is created that a team will beat another if they are higher in the FIFA/Elo rankings\n",
    "- Predictions will be of 'Team 1 Win', 'Team 2 Win', or 'Draw' between two sides, which makes this a classification problem\n",
    "    - I hope to successfully apply and obtain serviceable results with Decision Trees, Random Forest, XGBoost, Support Vector Machines, and if time allows, a Dense Neural Network with a softmax output layer.\n",
    "    - As 'Draws' are an important and meaningful result, I exclude Logistic Regression as I believe binary classification would not accurately capture important results\n",
    "    - I exclude Naive Bayes because the assumption of independence does not reflect trends / 'streaks' of winning that may occur due to a variety of factors such as emotion, player fitness, etc."
   ]
  },
  {
   "cell_type": "markdown",
   "metadata": {},
   "source": [
    "## Features"
   ]
  },
  {
   "cell_type": "markdown",
   "metadata": {},
   "source": [
    "Apart from the basic statistics available in the datasets, existing formulas developed for sports prediction are incorporated as follows\n",
    "\n",
    "### Not dependent on Opponent\n",
    "**Form**\n",
    "\n",
    "$$ \\frac{1}{10} \\sum_{k=1}^{5} result_k $$\n",
    "where result_k = result of the –kth match (value in {0, 1, 2});\n",
    "\n",
    "<br/>\n",
    "\n",
    "**Concentration**\n",
    "\n",
    "$$ 1 - 2x $$\n",
    "where x is the nearest match lost to a weak team (bottom 30 FIFA Rankings)\n",
    "\n",
    "<br/>\n",
    "\n",
    "**Motivation**\n",
    "$$ min(max( 1 - \\frac{dist}{3 * left} , rivalry , \\frac{level + dist}{2} ), 1) $$\n",
    "where\n",
    "- rivalry: 1 if match is a rivalry, 0 otherwise\n",
    "- dist - distance from Top 20 or Bottom 20\n",
    "- left - games left to play at the moment (ie 3 if starting Group Stage, 0 if in elimination round)\n",
    "- level - 1 if game is in single elimination or for qualification <br/>\n",
    "_okay this one is a little hard to implement, probably will leave this one out_\n",
    "\n",
    "<br/> <br/>\n",
    "\n",
    "### Dependent\n",
    "**Goal Difference**\n",
    "$$ \\frac{1}{2} + \\frac{diff}{2 * maxdiff} $$\n",
    "where difference is the difference in goals, maxdiff is the maximal difference in goals \n",
    "\n",
    "<br/>\n",
    "\n",
    "**Score Difference**<br/>\n",
    "same formulas as _Goal Difference_ but applied to scores \n",
    "\n",
    "<br/>\n",
    "\n",
    "**History** \n",
    "$$ \\frac{p_\\text{team1} + p_\\text{team2}}{2} $$\n",
    "\n",
    "where p_i is result of –i^th match\n",
    "\n",
    "<br/>\n",
    "\n",
    "### To be included in a future update:\n",
    "Paper by _Goven et. al_ posits that points scored by/against can be used proportionally to create Attack/Defense scores\n",
    "http://meyer.math.ncsu.edu/Meyer/Talks/OD_RankingCharleston.pdf\n",
    "\n",
    "**ODM Attack**\n",
    "    $$ a_\\text{team1} = \\sum_{n=1}^{n} P_\\text{t1t2} \\frac{1}{d_\\text{team1}} $$\n",
    "    \n",
    "**ODM Defense**\n",
    "    $$ d_\\text{team1} = \\sum_{n=1}^{n} P_\\text{t2t1} \\frac{1}{a_\\text{team1}} $$\n",
    "    \n",
    "P_t1t2_ being the points scored by team 1 on team 2. \n",
    "<br/>\n",
    "P_t2t1_ being the reverse\n",
    "<br/>\n",
    "Since A & D are mutually dependent, compute as follows...\n"
   ]
  },
  {
   "cell_type": "code",
   "execution_count": 1,
   "metadata": {},
   "outputs": [],
   "source": [
    "import pandas as pd"
   ]
  },
  {
   "cell_type": "code",
   "execution_count": null,
   "metadata": {},
   "outputs": [],
   "source": []
  }
 ],
 "metadata": {
  "kernelspec": {
   "display_name": "Python 3",
   "language": "python",
   "name": "python3"
  },
  "language_info": {
   "codemirror_mode": {
    "name": "ipython",
    "version": 3
   },
   "file_extension": ".py",
   "mimetype": "text/x-python",
   "name": "python",
   "nbconvert_exporter": "python",
   "pygments_lexer": "ipython3",
   "version": "3.6.5"
  }
 },
 "nbformat": 4,
 "nbformat_minor": 2
}
